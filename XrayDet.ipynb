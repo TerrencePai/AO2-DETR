{
  "nbformat": 4,
  "nbformat_minor": 0,
  "metadata": {
    "colab": {
      "provenance": [],
      "toc_visible": true,
      "mount_file_id": "1MVdPm8kvlijoGEhhRrC1SLklSl_68ljN",
      "authorship_tag": "ABX9TyMbWtBk/yyY2WcpE2GYWR09",
      "include_colab_link": true
    },
    "kernelspec": {
      "name": "python3",
      "display_name": "Python 3"
    },
    "language_info": {
      "name": "python"
    }
  },
  "cells": [
    {
      "cell_type": "markdown",
      "metadata": {
        "id": "view-in-github",
        "colab_type": "text"
      },
      "source": [
        "<a href=\"https://colab.research.google.com/github/TerrencePai/AO2-DETR/blob/master/XrayDet.ipynb\" target=\"_parent\"><img src=\"https://colab.research.google.com/assets/colab-badge.svg\" alt=\"Open In Colab\"/></a>"
      ]
    },
    {
      "cell_type": "code",
      "execution_count": 7,
      "metadata": {
        "colab": {
          "base_uri": "https://localhost:8080/"
        },
        "id": "jsVcABSjnqbt",
        "outputId": "16b98028-1073-4147-f9c8-ee92f0d57013"
      },
      "outputs": [
        {
          "output_type": "stream",
          "name": "stdout",
          "text": [
            "fatal: could not create work tree dir 'XrayDet': Operation not supported\n"
          ]
        }
      ],
      "source": [
        "!cd /content/drive\n",
        "!git config --global user.email \"TerrencePai@buaa.edu.cn\"\n",
        "!git config --global user.name \"terrencepai\"\n",
        "!cd /content/drive && git clone https://github.com/TerrencePai/XrayDet.git"
      ]
    }
  ]
}